{
 "cells": [
  {
   "cell_type": "markdown",
   "metadata": {},
   "source": [
    "<table style=\"width:100%\">\n",
    "  <tr>\n",
    "    <th align=\"right\"><img src=\"img/dilogo.png\" style=\"float:left;height:90px\"></th>\n",
    "    <th align=\"center\">\n",
    "    <h1 align=\"center\">Tarea 2</h1>\n",
    "    <h2 align=\"center\">Profesor: Ricardo Ñanculef</h2>\n",
    "    <h3 align=\"center\">Ayudante: Fransisco Mena</h3>\n",
    "    <h3 align=\"center\">Camilo Sanchez Bravo</h3>\n",
    "    <h3 align=\"center\">201673586-0</h3>\n",
    "    <h3 align=\"center\">Gabriel Vergara Donoso</h3>\n",
    "    <h3 align=\"center\">201673605-0</h3>\n",
    "    <h3 align=\"center\">Noviembre 2019</h3>\n",
    "    </th> \n",
    "    <th align=\"left\"><img src=\"img/usmlogo.png\" style=\"float:right;height:85px\"></th>\n",
    "  </tr>"
   ]
  },
  {
   "cell_type": "code",
   "execution_count": null,
   "metadata": {},
   "outputs": [],
   "source": []
  }
 ],
 "metadata": {
  "kernelspec": {
   "display_name": "Python 3",
   "language": "python",
   "name": "python3"
  },
  "language_info": {
   "codemirror_mode": {
    "name": "ipython",
    "version": 3
   },
   "file_extension": ".py",
   "mimetype": "text/x-python",
   "name": "python",
   "nbconvert_exporter": "python",
   "pygments_lexer": "ipython3",
   "version": "3.7.1"
  }
 },
 "nbformat": 4,
 "nbformat_minor": 2
}
